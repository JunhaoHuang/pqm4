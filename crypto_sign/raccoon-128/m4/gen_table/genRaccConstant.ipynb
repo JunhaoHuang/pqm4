{
 "cells": [
  {
   "cell_type": "code",
   "execution_count": 5,
   "metadata": {
    "tags": []
   },
   "outputs": [],
   "source": [
    "import math\n",
    "import random\n",
    "def EX_GCD(a,b,arr): #扩展欧几里得\n",
    "    if b == 0:\n",
    "        arr[0] = 1\n",
    "        arr[1] = 0\n",
    "        return a\n",
    "    g = EX_GCD(b, a % b, arr)\n",
    "    t = arr[0]\n",
    "    arr[0] = arr[1]\n",
    "    arr[1] = t - int(a / b) * arr[1]\n",
    "    return g\n",
    "def ModReverse(a,n): #ax=1(mod n) 求a模n的乘法逆x\n",
    "    arr = [0,1,]\n",
    "    gcd = EX_GCD(a,n,arr)\n",
    "    if gcd == 1:\n",
    "        return (arr[0] % n + n) % n\n",
    "    else:\n",
    "        return -1"
   ]
  },
  {
   "cell_type": "markdown",
   "metadata": {},
   "source": [
    "# Constants for Plantard arithmetic"
   ]
  },
  {
   "cell_type": "code",
   "execution_count": 6,
   "metadata": {},
   "outputs": [
    {
     "name": "stdout",
     "output_type": "stream",
     "text": [
      "q, q1, q2: 549824583172097 16515073 33292289\n",
      "h, h1, h2: 358453792785495 12686483 11827776\n",
      "r, r1, r2: 129308285697266 1048316 262015\n",
      "rr, rr1, rr2: 506614974174448 3933217 3160307\n",
      "qinv, q1inv, q2inv: 2231854466648768511 4278452225 4261675009\n",
      "hinv, h1inv, h2inv: 39269921794173 1368094 2304223\n",
      "ninv, n1inv, n2inv: 293083792181611 15458307 17497629\n"
     ]
    }
   ],
   "source": [
    "# Raccoon Parameters\n",
    "q1=2**24-2**18+1\n",
    "q2=2**25-2**18+1\n",
    "q=q1*q2\n",
    "n=512\n",
    "h=358453792785495\n",
    "h1=h%q1\n",
    "h2=h%q2\n",
    "\n",
    "R64=2**64\n",
    "R32=2**32\n",
    "\n",
    "r=2**64%q\n",
    "r1=2**32%q1\n",
    "r2=2**32%q2\n",
    "\n",
    "rr=r*r%q\n",
    "rr1=r1*r1%q1\n",
    "rr2=r2*r2%q2\n",
    "\n",
    "qinv=ModReverse(-q,R64)\n",
    "q1inv=ModReverse(q1,R32)\n",
    "q2inv=ModReverse(q2,R32)\n",
    "\n",
    "hinv=ModReverse(h,q)\n",
    "h1inv=ModReverse(h1,q1)\n",
    "h2inv=ModReverse(h2,q2)\n",
    "\n",
    "ninv=(rr*ModReverse(n,q))%q\n",
    "n1inv=(rr1*ModReverse(n,q1))%q1\n",
    "n2inv=(rr2*ModReverse(n,q2))%q2\n",
    "\n",
    "print(\"q, q1, q2:\",q, q1, q2)\n",
    "print(\"h, h1, h2:\", h, h1, h2)\n",
    "print(\"r, r1, r2:\", r, r1, r2)\n",
    "print(\"rr, rr1, rr2:\", rr, rr1, rr2)\n",
    "print(\"qinv, q1inv, q2inv:\", qinv, q1inv, q2inv)\n",
    "print(\"hinv, h1inv, h2inv:\", hinv, h1inv, h2inv)\n",
    "\n",
    "print(\"ninv, n1inv, n2inv:\", ninv, n1inv, n2inv)\n"
   ]
  }
 ],
 "metadata": {
  "kernelspec": {
   "display_name": "Python 3.9.5 64-bit",
   "language": "python",
   "name": "python3"
  },
  "language_info": {
   "codemirror_mode": {
    "name": "ipython",
    "version": 3
   },
   "file_extension": ".py",
   "mimetype": "text/x-python",
   "name": "python",
   "nbconvert_exporter": "python",
   "pygments_lexer": "ipython3",
   "version": "3.10.4"
  },
  "metadata": {
   "interpreter": {
    "hash": "5edc29c2ed010d6458d71a83433b383a96a8cbd3efe8531bc90c4b8a5b8bcec9"
   }
  },
  "orig_nbformat": 2,
  "vscode": {
   "interpreter": {
    "hash": "916dbcbb3f70747c44a77c7bcd40155683ae19c65e1c03b4aa3499c5328201f1"
   }
  }
 },
 "nbformat": 4,
 "nbformat_minor": 2
}
